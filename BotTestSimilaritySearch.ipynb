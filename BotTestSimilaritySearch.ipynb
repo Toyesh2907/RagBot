{
 "cells": [
  {
   "cell_type": "code",
   "execution_count": 2,
   "metadata": {},
   "outputs": [
    {
     "data": {
      "text/plain": [
       "True"
      ]
     },
     "execution_count": 2,
     "metadata": {},
     "output_type": "execute_result"
    }
   ],
   "source": [
    "from dotenv import load_dotenv\n",
    "load_dotenv()"
   ]
  },
  {
   "cell_type": "code",
   "execution_count": 3,
   "metadata": {},
   "outputs": [],
   "source": [
    "import os\n",
    "from pinecone import Pinecone, ServerlessSpec  # Updated Pinecone initialization\n",
    "from PyPDF2 import PdfReader\n",
    "from langchain.text_splitter import RecursiveCharacterTextSplitter\n",
    "from langchain_community.vectorstores import Pinecone as LangchainPinecone  # Updated import\n",
    "from langchain_google_genai import GoogleGenerativeAIEmbeddings\n",
    "from langchain_google_genai import ChatGoogleGenerativeAI\n",
    "from langchain.chains.question_answering import load_qa_chain\n",
    "from langchain.prompts import PromptTemplate \n",
    "import google.generativeai as genai"
   ]
  },
  {
   "cell_type": "code",
   "execution_count": 4,
   "metadata": {},
   "outputs": [],
   "source": [
    "# Configure Google Generative AI\n",
    "genai.configure(api_key=os.getenv(\"GOOGLE_API_KEY\"))\n",
    "\n",
    "# Initialize Pinecone using the new class structure\n",
    "pc = Pinecone(\n",
    "    api_key=os.getenv(\"PINECONE_API_KEY\")\n",
    ")\n",
    "\n",
    "\n",
    "PINECONE_INDEX = \"ragmodel-similarity-test\"\n",
    "\n",
    "if PINECONE_INDEX not in pc.list_indexes().names():\n",
    "  \n",
    "    embedding_dimension = 768 \n",
    "    pc.create_index(\n",
    "        name=PINECONE_INDEX,\n",
    "        dimension=embedding_dimension,\n",
    "        metric='cosine',\n",
    "        spec=ServerlessSpec(\n",
    "            cloud='aws',       \n",
    "            region='us-east-1'\n",
    "        )\n",
    "    )"
   ]
  },
  {
   "cell_type": "code",
   "execution_count": 5,
   "metadata": {},
   "outputs": [],
   "source": [
    "def get_pdf_text(pdf_docs):\n",
    "    text = \"\"\n",
    "    for pdf in pdf_docs:\n",
    "        pdf_reader = PdfReader(pdf)\n",
    "        for page in pdf_reader.pages:\n",
    "            extracted_text = page.extract_text()\n",
    "            if extracted_text:  # Ensure that text is extracted\n",
    "                text += extracted_text\n",
    "    return text"
   ]
  },
  {
   "cell_type": "code",
   "execution_count": 6,
   "metadata": {},
   "outputs": [],
   "source": [
    "# Function to split text into chunks\n",
    "def get_text_chunks(text):\n",
    "    text_splitter = RecursiveCharacterTextSplitter(chunk_size=10000, chunk_overlap=1000)\n",
    "    chunks = text_splitter.split_text(text)\n",
    "    return chunks"
   ]
  },
  {
   "cell_type": "code",
   "execution_count": 7,
   "metadata": {},
   "outputs": [],
   "source": [
    "def get_vector_store(text_chunks):\n",
    "    embeddings = GoogleGenerativeAIEmbeddings(model=\"models/embedding-001\")\n",
    "    vector_store = LangchainPinecone.from_texts(text_chunks, embeddings, index_name=PINECONE_INDEX)\n",
    "    # vector_store.save_local(\"faiss_index\")\n"
   ]
  },
  {
   "cell_type": "code",
   "execution_count": 8,
   "metadata": {},
   "outputs": [],
   "source": [
    "def get_conversational_chain():\n",
    "    prompt_template = \"\"\"\n",
    "    Answer the questions as detailed as possible from the provided context. Make sure to provide all the details. \n",
    "    If the answer is not in the provided context, just say, \"Answer is not available in the document.\" \n",
    "    Don't provide the wrong answer.\n",
    "\n",
    "    Context:\n",
    "    {context}\n",
    "\n",
    "    Question:\n",
    "    {question}\n",
    "\n",
    "    Answer:\n",
    "    \"\"\"\n",
    "    prompt = PromptTemplate(\n",
    "        template=prompt_template,\n",
    "        input_variables=[\"context\", \"question\"]\n",
    "    )\n",
    "    model = ChatGoogleGenerativeAI(model=\"gemini-pro\", temperature=0.3)\n",
    "    chain = load_qa_chain(model, chain_type=\"stuff\", prompt=prompt)\n",
    "    return chain\n"
   ]
  },
  {
   "cell_type": "code",
   "execution_count": 9,
   "metadata": {},
   "outputs": [],
   "source": [
    "def user_input(user_question):\n",
    "    embeddings = GoogleGenerativeAIEmbeddings(model=\"models/embedding-001\")\n",
    "    # Connect to the existing Pinecone index\n",
    "    vector_store = LangchainPinecone.from_existing_index(PINECONE_INDEX, embeddings)\n",
    "    # Perform similarity search\n",
    "    docs = vector_store.similarity_search(user_question)\n",
    "    # Get the QA chain\n",
    "    chain = get_conversational_chain()\n",
    "    # Get the response\n",
    "    response = chain(\n",
    "        {\"input_documents\": docs, \"question\": user_question},\n",
    "        return_only_outputs=True\n",
    "    )\n",
    "    return response[\"output_text\"]"
   ]
  },
  {
   "cell_type": "code",
   "execution_count": 9,
   "metadata": {},
   "outputs": [],
   "source": [
    "\n",
    "# Path to your PDF document\n",
    "pdf = os.getenv(\"PDF_FILE\")\n",
    "\n",
    "# Extract text from PDF\n",
    "text = get_pdf_text([pdf])\n",
    "\n",
    "# Split text into chunks\n",
    "doc_chunks = get_text_chunks(text)\n",
    "\n",
    "# Create and upload vectors to Pinecone\n",
    "get_vector_store(doc_chunks)\n",
    "\n"
   ]
  },
  {
   "cell_type": "code",
   "execution_count": 10,
   "metadata": {},
   "outputs": [
    {
     "name": "stderr",
     "output_type": "stream",
     "text": [
      "C:\\Users\\Lenovo\\AppData\\Local\\Temp\\ipykernel_26508\\2250719601.py:20: LangChainDeprecationWarning: This class is deprecated. See the following migration guides for replacements based on `chain_type`:\n",
      "stuff: https://python.langchain.com/v0.2/docs/versions/migrating_chains/stuff_docs_chain\n",
      "map_reduce: https://python.langchain.com/v0.2/docs/versions/migrating_chains/map_reduce_chain\n",
      "refine: https://python.langchain.com/v0.2/docs/versions/migrating_chains/refine_chain\n",
      "map_rerank: https://python.langchain.com/v0.2/docs/versions/migrating_chains/map_rerank_docs_chain\n",
      "\n",
      "See also guides on retrieval and question-answering here: https://python.langchain.com/v0.2/docs/how_to/#qa-with-rag\n",
      "  chain = load_qa_chain(model, chain_type=\"stuff\", prompt=prompt)\n",
      "C:\\Users\\Lenovo\\AppData\\Local\\Temp\\ipykernel_26508\\2577958982.py:10: LangChainDeprecationWarning: The method `Chain.__call__` was deprecated in langchain 0.1.0 and will be removed in 1.0. Use invoke instead.\n",
      "  response = chain(\n"
     ]
    },
    {
     "data": {
      "text/plain": [
       "'The data link layer transforms the physical layer, a raw transmission facility, to a reliable link. It makes the physical layer appear error-free to the upper layer (network layer).'"
      ]
     },
     "execution_count": 10,
     "metadata": {},
     "output_type": "execute_result"
    }
   ],
   "source": [
    "prompt=\"what does data link layer do\"\n",
    "user_input(prompt)"
   ]
  },
  {
   "cell_type": "code",
   "execution_count": 11,
   "metadata": {},
   "outputs": [
    {
     "data": {
      "text/plain": [
       "'Encapsulation is the process of adding a header and trailer to a packet at each layer of the OSI model. The header contains information about the source and destination of the packet, as well as the type of data being sent. The trailer contains information about the length of the packet and the checksum.'"
      ]
     },
     "execution_count": 11,
     "metadata": {},
     "output_type": "execute_result"
    }
   ],
   "source": [
    "prompt2=\"what is data encapsulation?\"\n",
    "user_input(prompt2)"
   ]
  },
  {
   "cell_type": "code",
   "execution_count": 13,
   "metadata": {},
   "outputs": [
    {
     "data": {
      "text/plain": [
       "'The OSI model is a layered framework for the design of network systems that allows communication between all types of computer systems. It consists of seven separate but related layers, each of which defines a part of the process of moving information across a network.\\n\\n1. Physical Layer: The physical layer is responsible for the physical transmission of data over a network. It defines the physical characteristics of the network, such as the type of cable, the connectors used, and the signaling method.\\n\\n2. Data Link Layer: The data link layer is responsible for the reliable transmission of data over a network. It defines the protocols used to establish and maintain a connection between two devices, and it provides error detection and correction mechanisms.\\n\\n3. Network Layer: The network layer is responsible for the routing of data over a network. It defines the protocols used to determine the best path for data to take from one device to another, and it provides mechanisms for addressing and routing data.\\n\\n4. Transport Layer: The transport layer is responsible for the reliable delivery of data over a network. It defines the protocols used to establish and maintain a connection between two devices, and it provides mechanisms for flow control and error recovery.\\n\\n5. Session Layer: The session layer is responsible for the establishment and management of sessions between two devices. It defines the protocols used to establish, maintain, and terminate a session, and it provides mechanisms for synchronization and recovery from errors.\\n\\n6. Presentation Layer: The presentation layer is responsible for the translation of data between different formats. It defines the protocols used to convert data from one format to another, and it provides mechanisms for encryption and decryption.\\n\\n7. Application Layer: The application layer is responsible for providing services to the user. It defines the protocols used to access and use network services, such as file transfer, email, and web browsing.'"
      ]
     },
     "execution_count": 13,
     "metadata": {},
     "output_type": "execute_result"
    }
   ],
   "source": [
    "prompt3=\"give a brief explaination about structure of osi model and each layer does\"\n",
    "user_input(prompt3)"
   ]
  },
  {
   "cell_type": "code",
   "execution_count": 10,
   "metadata": {},
   "outputs": [
    {
     "name": "stderr",
     "output_type": "stream",
     "text": [
      "C:\\Users\\Lenovo\\AppData\\Local\\Temp\\ipykernel_26064\\2250719601.py:20: LangChainDeprecationWarning: This class is deprecated. See the following migration guides for replacements based on `chain_type`:\n",
      "stuff: https://python.langchain.com/v0.2/docs/versions/migrating_chains/stuff_docs_chain\n",
      "map_reduce: https://python.langchain.com/v0.2/docs/versions/migrating_chains/map_reduce_chain\n",
      "refine: https://python.langchain.com/v0.2/docs/versions/migrating_chains/refine_chain\n",
      "map_rerank: https://python.langchain.com/v0.2/docs/versions/migrating_chains/map_rerank_docs_chain\n",
      "\n",
      "See also guides on retrieval and question-answering here: https://python.langchain.com/v0.2/docs/how_to/#qa-with-rag\n",
      "  chain = load_qa_chain(model, chain_type=\"stuff\", prompt=prompt)\n",
      "C:\\Users\\Lenovo\\AppData\\Local\\Temp\\ipykernel_26064\\2577958982.py:10: LangChainDeprecationWarning: The method `Chain.__call__` was deprecated in langchain 0.1.0 and will be removed in 1.0. Use invoke instead.\n",
      "  response = chain(\n"
     ]
    },
    {
     "data": {
      "text/plain": [
       "'UDP (User Datagram Protocol) is a connectionless, unreliable transport protocol. It provides process-to-process communication using port numbers. UDP is suitable for applications that require simple request-response communication with little concern for flow and error control.\\n\\nTCP (Transmission Control Protocol) is a connection-oriented, reliable transport protocol. It adds connection-oriented and reliability features to the services of IP. TCP is suitable for applications that require reliable data transfer, such as file transfer and email.\\n\\nSCTP (Stream Control Transmission Protocol) is a reliable, message-oriented transport protocol. It combines the best features of UDP and TCP. SCTP is suitable for applications that require reliable data transfer and message-oriented communication, such as telephony and video conferencing.'"
      ]
     },
     "execution_count": 10,
     "metadata": {},
     "output_type": "execute_result"
    }
   ],
   "source": [
    "prompt4=\"what is UDp, TCP, and SCTP ?\"\n",
    "user_input(prompt4)"
   ]
  },
  {
   "cell_type": "code",
   "execution_count": 15,
   "metadata": {},
   "outputs": [
    {
     "data": {
      "text/plain": [
       "'Cyclic Redundancy Check (CRC) is a type of error detection method used in data transmission to detect errors in data. It involves adding a fixed-length checksum to the end of a data block, which is calculated based on the contents of the data block. The receiver of the data can then use the checksum to verify the integrity of the data and detect any errors that may have occurred during transmission.\\n\\nSome common error detection methods include:\\n\\n1. Parity check: This method involves adding an extra bit to each byte of data, which indicates whether the number of 1 bits in the byte is even or odd. If the parity bit does not match the actual number of 1 bits in the byte, an error is detected.\\n\\n2. Checksum: This method involves adding up all the bytes in a data block and taking the remainder when the sum is divided by a fixed number. The checksum is then appended to the end of the data block. The receiver of the data can then calculate the checksum of the received data and compare it to the received checksum to detect any errors.\\n\\n3. Cyclic Redundancy Check (CRC): This method involves using a polynomial to generate a checksum for a data block. The checksum is then appended to the end of the data block. The receiver of the data can then use the same polynomial to generate a checksum for the received data and compare it to the received checksum to detect any errors.'"
      ]
     },
     "execution_count": 15,
     "metadata": {},
     "output_type": "execute_result"
    }
   ],
   "source": [
    "prompt5=\"what is cylic redundany check? name some error detection methods\"\n",
    "user_input(prompt5)"
   ]
  },
  {
   "cell_type": "code",
   "execution_count": null,
   "metadata": {},
   "outputs": [],
   "source": []
  }
 ],
 "metadata": {
  "kernelspec": {
   "display_name": "Python 3",
   "language": "python",
   "name": "python3"
  },
  "language_info": {
   "codemirror_mode": {
    "name": "ipython",
    "version": 3
   },
   "file_extension": ".py",
   "mimetype": "text/x-python",
   "name": "python",
   "nbconvert_exporter": "python",
   "pygments_lexer": "ipython3",
   "version": "3.10.0"
  }
 },
 "nbformat": 4,
 "nbformat_minor": 2
}
